{
 "cells": [
  {
   "cell_type": "code",
   "execution_count": 1,
   "metadata": {},
   "outputs": [],
   "source": [
    "import h5py\n",
    "import os\n",
    "import seaborn as sns\n",
    "import joblib\n",
    "import copy\n",
    "import cv2\n",
    "import glob\n",
    "import numpy as np\n",
    "from tqdm import tqdm\n",
    "from PIL import Image\n",
    "from collections import OrderedDict\n",
    "\n",
    "import habitat\n",
    "from habitat.utils.visualizations import maps, utils\n",
    "\n",
    "import matplotlib\n",
    "import matplotlib.pyplot as plt\n",
    "import matplotlib.colors as colors\n",
    "%matplotlib inline"
   ]
  },
  {
   "cell_type": "code",
   "execution_count": 2,
   "metadata": {},
   "outputs": [],
   "source": [
    "ACTUAL_ROUTE_COLOR = [0, 0, 200]  # Blue\n",
    "VO_ROUTE_COLOR = (200, 0, 0)   # red"
   ]
  },
  {
   "cell_type": "markdown",
   "metadata": {},
   "source": [
    "Assume the evaluation results are saved under `$SAVE_DIR`. Please assign `info_f` to the `$SAVE_DIR/infos/XX.infos.p`."
   ]
  },
  {
   "cell_type": "code",
   "execution_count": 3,
   "metadata": {},
   "outputs": [],
   "source": [
    "info_f = \"XX.infos.p\""
   ]
  },
  {
   "cell_type": "code",
   "execution_count": 4,
   "metadata": {},
   "outputs": [],
   "source": [
    "info_dict = joblib.load(open(info_f, \"rb\"))"
   ]
  },
  {
   "cell_type": "code",
   "execution_count": 5,
   "metadata": {},
   "outputs": [
    {
     "data": {
      "text/plain": [
       "{'reward': 1.4761033058166504,\n",
       " 'distance_to_goal': 7.703719139099121,\n",
       " 'success': 0.0,\n",
       " 'spl': 0.0,\n",
       " 'softspl': 0.2970944218276649,\n",
       " 'collisions.count': 116.0,\n",
       " 'len': 177,\n",
       " 'dx_stuck': 80,\n",
       " 'dz_stuck': 80,\n",
       " 'both_stuck': 80}"
      ]
     },
     "execution_count": 5,
     "metadata": {},
     "output_type": "execute_result"
    }
   ],
   "source": [
    "info_dict[list(info_dict.keys())[1]][\"0\"][\"stat\"]"
   ]
  },
  {
   "cell_type": "code",
   "execution_count": 6,
   "metadata": {},
   "outputs": [
    {
     "data": {
      "text/plain": [
       "dict_keys(['action', 'prev_agent_state', 'cur_agent_state', 'prev_agent_angle', 'cur_agent_angle', 'gt_delta', 'collision', 'fog_of_war_mask', 'rgb', 'depth', 'ego_top_down_map', 'pred_delta', 'prev_agent_state_from_vo', 'cur_agent_state_from_vo', 'vo_pred_std'])"
      ]
     },
     "execution_count": 6,
     "metadata": {},
     "output_type": "execute_result"
    }
   ],
   "source": [
    "info_dict[list(info_dict.keys())[1]][\"0\"][\"traj\"][0].keys()"
   ]
  },
  {
   "cell_type": "code",
   "execution_count": 7,
   "metadata": {},
   "outputs": [],
   "source": [
    "def _get_map_coord(map_info, step_info, state_k):\n",
    "\n",
    "    map_agent_x, map_agent_y = maps.to_grid(\n",
    "        step_info[f\"{state_k}\"][\"position\"][0], # x\n",
    "        step_info[f\"{state_k}\"][\"position\"][2], # z\n",
    "        map_info[\"coordinate_min\"],\n",
    "        map_info[\"coordinate_max\"],\n",
    "        map_info[\"map_resolution\"],\n",
    "    )\n",
    "    agent_map_coord = (\n",
    "        map_agent_x - (map_info[\"ind_x_min\"] - map_info[\"grid_delta\"]),\n",
    "        map_agent_y - (map_info[\"ind_y_min\"] - map_info[\"grid_delta\"]),\n",
    "    )\n",
    "    \n",
    "    return agent_map_coord"
   ]
  },
  {
   "cell_type": "code",
   "execution_count": 8,
   "metadata": {},
   "outputs": [],
   "source": [
    "def draw_traj_top_down_map(traj_info):\n",
    "    \n",
    "    N = 20\n",
    "    \n",
    "    print(traj_info[\"stat\"][\"spl\"])\n",
    "    \n",
    "    map_info = traj_info[\"map\"]\n",
    "    top_down_map = map_info[\"blank_top_down_map\"]\n",
    "    top_down_map = maps.colorize_topdown_map(top_down_map)\n",
    "    \n",
    "    # print(top_down_map.shape)\n",
    "    \n",
    "    step_infos = traj_info[\"traj\"]\n",
    "    # print(len(step_infos))\n",
    "    \n",
    "    actual_map_coords = []\n",
    "    imagine_map_coords = []\n",
    "        \n",
    "    for elem in step_infos:\n",
    "        actual_map_coords.append(\n",
    "            _get_map_coord(map_info, elem, \"cur_agent_state\")\n",
    "        )\n",
    "        imagine_map_coords.append(\n",
    "            _get_map_coord(map_info, elem, \"cur_agent_state_from_vo\")\n",
    "        )\n",
    "        \n",
    "    line_thickness = max(1, int(top_down_map.shape[0] / 40)) * 1\n",
    "    agent_size = int(top_down_map.shape[0] / 30) * 1\n",
    "    # print(line_thickness)\n",
    "        \n",
    "    # actual path\n",
    "    maps.draw_path(\n",
    "        top_down_map,\n",
    "        actual_map_coords,\n",
    "        ACTUAL_ROUTE_COLOR,\n",
    "        line_thickness\n",
    "    )\n",
    "    \n",
    "    # VO imagine path\n",
    "    maps.draw_path(\n",
    "        top_down_map,\n",
    "        imagine_map_coords,\n",
    "        VO_ROUTE_COLOR,\n",
    "        line_thickness\n",
    "    )\n",
    "    \n",
    "    # blue\n",
    "    source_square = np.zeros((agent_size * 2, agent_size * 2, 3))\n",
    "    source_square[:, :, 2] = 255\n",
    "    source_map_coord = _get_map_coord(map_info, {\"placeholder\": traj_info[\"start\"]}, \"placeholder\")\n",
    "    \n",
    "    utils.paste_overlapping_image(top_down_map, source_square, source_map_coord)\n",
    "    \n",
    "    # green\n",
    "    goal_square = np.zeros((agent_size * 3, agent_size * 3, 3))\n",
    "    goal_square[:, :, 1] = 255\n",
    "    goal_map_coord = _get_map_coord(map_info, {\"placeholder\": traj_info[\"goal\"]}, \"placeholder\")\n",
    "    \n",
    "    utils.paste_overlapping_image(top_down_map, goal_square, goal_map_coord)\n",
    "    \n",
    "    # draw agent's position\n",
    "    top_down_map = maps.draw_agent(\n",
    "        top_down_map,\n",
    "        actual_map_coords[-1],\n",
    "        # heading - np.pi / 2,\n",
    "        step_infos[-1][f\"cur_agent_angle\"],\n",
    "        agent_radius_px=agent_size * 2,\n",
    "    )\n",
    "    \n",
    "    if top_down_map.shape[0] > top_down_map.shape[1]:\n",
    "        # top_down_map = np.transpose(top_down_map, (1, 0, 2))\n",
    "        top_down_map = np.rot90(top_down_map, 1)\n",
    "    \n",
    "    # print(top_down_map.shape)\n",
    "    \n",
    "    top_down_map_img = Image.fromarray(top_down_map)\n",
    "    plt.imshow(top_down_map_img)\n",
    "    top_down_map_img.save(\"./top_down_map.pdf\")"
   ]
  },
  {
   "cell_type": "code",
   "execution_count": 9,
   "metadata": {},
   "outputs": [
    {
     "name": "stdout",
     "output_type": "stream",
     "text": [
      "0.8670570466471674\n"
     ]
    },
    {
     "data": {
      "image/png": "[encoded data removed]",
      "text/plain": [
       "<Figure size 432x288 with 1 Axes>"
      ]
     },
     "metadata": {
      "needs_background": "light"
     },
     "output_type": "display_data"
    }
   ],
   "source": [
    "traj_step_infos = info_dict[list(info_dict.keys())[1]][\"2\"]\n",
    "\n",
    "draw_traj_top_down_map(traj_step_infos)"
   ]
  },
  {
   "cell_type": "code",
   "execution_count": null,
   "metadata": {},
   "outputs": [],
   "source": []
  }
 ],
 "metadata": {
  "kernelspec": {
   "display_name": "Python 3",
   "language": "python",
   "name": "python3"
  },
  "language_info": {
   "codemirror_mode": {
    "name": "ipython",
    "version": 3
   },
   "file_extension": ".py",
   "mimetype": "text/x-python",
   "name": "python",
   "nbconvert_exporter": "python",
   "pygments_lexer": "ipython3",
   "version": "3.6.12"
  }
 },
 "nbformat": 4,
 "nbformat_minor": 4
}
